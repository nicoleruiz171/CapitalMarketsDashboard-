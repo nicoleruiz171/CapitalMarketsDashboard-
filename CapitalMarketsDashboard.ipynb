{
 "cells": [
  {
   "cell_type": "code",
   "execution_count": 12,
   "id": "38988ca6-ad61-46e5-bc4d-96fb1bec4b43",
   "metadata": {},
   "outputs": [],
   "source": [
    "# Capital Markets Dashboard - Enhanced ETL & AWS Integration\n",
    "%matplotlib inline\n",
    "# Step 1: Import Libraries\n",
    "import yfinance as yf\n",
    "import pandas as pd\n",
    "import matplotlib.pyplot as plt\n",
    "from datetime import datetime\n",
    "import ipywidgets as widgets\n",
    "from IPython.display import display, clear_output\n",
    "import requests  # For FRED API integration\n",
    "import numpy as np\n",
    "import boto3  # AWS S3 integration\n",
    "from botocore.exceptions import NoCredentialsError"
   ]
  },
  {
   "cell_type": "code",
   "execution_count": 14,
   "id": "61a4d34a-318d-4699-ad64-389b01305d8f",
   "metadata": {},
   "outputs": [],
   "source": [
    "# Step 2: Set Up FRED API Key and AWS Credentials\n",
    "FRED_API_KEY = 'YOUR_FRED_API_KEY'  # Replace with your FRED API key\n",
    "AWS_ACCESS_KEY = 'YOUR_AWS_ACCESS_KEY'  # Replace with your AWS access key\n",
    "AWS_SECRET_KEY = 'YOUR_AWS_SECRET_KEY'  # Replace with your AWS secret key\n",
    "S3_BUCKET = 'your-s3-bucket-name'  # Replace with your S3 bucket name\n",
    "\n",
    "# AWS S3 Client Setup\n",
    "s3 = boto3.client('s3', aws_access_key_id=AWS_ACCESS_KEY, aws_secret_access_key=AWS_SECRET_KEY)\n",
    "\n",
    "def upload_to_s3(file_name, bucket, object_name):\n",
    "    try:\n",
    "        s3.upload_file(file_name, bucket, object_name)\n",
    "        print(f\"File {file_name} uploaded to S3 bucket {bucket} as {object_name}.\")\n",
    "    except NoCredentialsError:\n",
    "        print(\"AWS credentials not available.\")\n",
    "\n",
    "# FRED API Data Fetch\n",
    "def fetch_fred_data(series_id, start_date, end_date):\n",
    "    url = f'https://api.stlouisfed.org/fred/series/observations?series_id={series_id}&api_key={FRED_API_KEY}&file_type=json&observation_start={start_date}&observation_end={end_date}'\n",
    "    response = requests.get(url)\n",
    "    data = response.json()\n",
    "    observations = data.get('observations', [])\n",
    "    dates = [obs['date'] for obs in observations]\n",
    "    values = [float(obs['value']) if obs['value'] != '.' else None for obs in observations]\n",
    "    return pd.Series(data=values, index=pd.to_datetime(dates))"
   ]
  },
  {
   "cell_type": "code",
   "execution_count": 24,
   "id": "85a67149-af8b-41c0-b8dc-20cab0dba435",
   "metadata": {},
   "outputs": [],
   "source": [
    "# Step 3: Define ETL Functions\n",
    "# Extract Bond Price Data from Yahoo Finance\n",
    "def extract_bond_data(ticker, start, end):\n",
    "    return yf.download(ticker, start=start, end=end)['Close']\n",
    "\n",
    "# Transform Data\n",
    "def transform_data(data):\n",
    "    data = data.dropna()  # remove missing data\n",
    "    returns = data.pct_change().dropna().cumsum() # Compute cumulative returns\n",
    "    volatility = data.pct_change().std() * np.sqrt(252)  # Annualized volatility\n",
    "    sharpe_ratio = (returns.mean() / returns.std()) * np.sqrt(252)  # Simplified Sharpe Ratio\n",
    "    return data, returns, volatility, sharpe_ratio\n",
    "\n",
    "# Load Data (Visualization and Reporting)\n",
    "def load_and_visualize(bond_data, returns, volatility, sharpe_ratio, yield_data, bond_name):\n",
    "    # Save data to CSV\n",
    "    bond_data.to_csv(f'{bond_name}_price_data.csv')\n",
    "    returns.to_csv(f'{bond_name}_returns_data.csv')\n",
    "    if yield_data is not None:\n",
    "        yield_data.to_csv(f'{bond_name}_yield_data.csv')\n",
    "    \n",
    "    # Upload to AWS S3\n",
    "    upload_to_s3(f'{bond_name}_price_data.csv', S3_BUCKET, f'data/{bond_name}_price_data.csv')\n",
    "    upload_to_s3(f'{bond_name}_returns_data.csv', S3_BUCKET, f'data/{bond_name}_returns_data.csv')\n",
    "    if yield_data is not None:\n",
    "        upload_to_s3(f'{bond_name}_yield_data.csv', S3_BUCKET, f'data/{bond_name}_yield_data.csv')\n",
    "    \n",
    "    # Visualization\n",
    "    plt.figure(figsize=(10, 5))\n",
    "    plt.plot(bond_data, label=f'{bond_name} Price')\n",
    "    plt.title(f'{bond_name} Price Over Time')\n",
    "    plt.xlabel('Date')\n",
    "    plt.ylabel('Adjusted Close Price ($)')\n",
    "    plt.legend()\n",
    "    plt.grid(True)\n",
    "    plt.show()\n",
    "\n",
    "    \n",
    "    plt.figure(figsize=(10, 5))\n",
    "    plt.plot(returns, label=f'{bond_name} Cumulative Returns', color='purple')\n",
    "    plt.title(f'Cumulative Returns for {bond_name}')\n",
    "    plt.xlabel('Date')\n",
    "    plt.ylabel('Cumulative Return')\n",
    "    plt.legend()\n",
    "    plt.grid(True)\n",
    "    plt.show()\n",
    "    \n",
    "    if yield_data is not None:\n",
    "        plt.figure(figsize=(10, 5))\n",
    "        plt.plot(yield_data, label=f'{bond_name} Historical Yield', color='green')\n",
    "        plt.title(f'Historical Yield for {bond_name}')\n",
    "        plt.xlabel('Date')\n",
    "        plt.ylabel('Yield (%)')\n",
    "        plt.legend()\n",
    "        plt.grid(True)\n",
    "        plt.show()\n",
    "\n",
    "    # Print summary metrics\n",
    "    print(f\"Volatility for {bond_name}: {volatility.mean():.2%}\")\n",
    "    print(f\"Sharpe Ratio for {bond_name}: {sharpe_ratio.mean():.2f}\")"
   ]
  },
  {
   "cell_type": "code",
   "execution_count": 26,
   "id": "b072219d-5244-4f0b-a706-bf1998d88621",
   "metadata": {},
   "outputs": [],
   "source": [
    "# Step 4: Set Up Interactive Widgets\n",
    "tickers = ['SHY', 'IEF', 'TLT']  # Bond ETFs with different durations\n",
    "fred_series = {'SHY': 'DGS1', 'IEF': 'DGS10', 'TLT': 'DGS30'}  # FRED series IDs for yields\n",
    "\n",
    "bond_selector = widgets.Dropdown(\n",
    "    options=tickers,\n",
    "    description='Select Bond:',\n",
    "    value='SHY'\n",
    ")\n",
    "\n",
    "start_date = widgets.DatePicker(\n",
    "    description='Start Date',\n",
    "    value=datetime(2023, 1, 1)\n",
    ")\n",
    "\n",
    "end_date = widgets.DatePicker(\n",
    "    description='End Date',\n",
    "    value=datetime(2024, 1, 1)\n",
    ")\n",
    "\n",
    "update_button = widgets.Button(\n",
    "    description='Update Data',\n",
    "    button_style='success'\n",
    ")\n",
    "\n",
    "output = widgets.Output()\n",
    "\n",
    "def update_data(b):\n",
    "    with output:\n",
    "        clear_output()\n",
    "        bond = bond_selector.value\n",
    "        start = start_date.value.strftime('%Y-%m-%d')\n",
    "        end = end_date.value.strftime('%Y-%m-%d')\n",
    "        \n",
    "        # ETL Process\n",
    "        raw_data = extract_bond_data(bond, start, end)\n",
    "        transformed_data, returns, volatility, sharpe = transform_data(raw_data)\n",
    "        \n",
    "        # Fetch actual yield data from FRED\n",
    "        yield_series_id = fred_series.get(bond)\n",
    "        yield_data = fetch_fred_data(yield_series_id, start, end) if yield_series_id else None\n",
    "        \n",
    "        # Load and visualize data\n",
    "        load_and_visualize(transformed_data, returns, volatility, sharpe, yield_data, bond)\n",
    "\n",
    "# Attach update function to button\n",
    "update_button.on_click(update_data)"
   ]
  },
  {
   "cell_type": "code",
   "execution_count": 28,
   "id": "38cebdd8-354f-4925-85bc-13d4a38b00f8",
   "metadata": {},
   "outputs": [
    {
     "data": {
      "application/vnd.jupyter.widget-view+json": {
       "model_id": "753b2115248445849477e56f234bc2ec",
       "version_major": 2,
       "version_minor": 0
      },
      "text/plain": [
       "Dropdown(description='Select Bond:', options=('SHY', 'IEF', 'TLT'), value='SHY')"
      ]
     },
     "metadata": {},
     "output_type": "display_data"
    },
    {
     "data": {
      "application/vnd.jupyter.widget-view+json": {
       "model_id": "a8bfdfb0a9c6438ea40a31c7a47ccc82",
       "version_major": 2,
       "version_minor": 0
      },
      "text/plain": [
       "DatePicker(value=datetime.datetime(2023, 1, 1, 0, 0), description='Start Date', step=1)"
      ]
     },
     "metadata": {},
     "output_type": "display_data"
    },
    {
     "data": {
      "application/vnd.jupyter.widget-view+json": {
       "model_id": "30173e9c166244d1be25a58c98d219ce",
       "version_major": 2,
       "version_minor": 0
      },
      "text/plain": [
       "DatePicker(value=datetime.datetime(2024, 1, 1, 0, 0), description='End Date', step=1)"
      ]
     },
     "metadata": {},
     "output_type": "display_data"
    },
    {
     "data": {
      "application/vnd.jupyter.widget-view+json": {
       "model_id": "94aaadc7f16a46eaa9878ba646c4934e",
       "version_major": 2,
       "version_minor": 0
      },
      "text/plain": [
       "Button(button_style='success', description='Update Data', style=ButtonStyle())"
      ]
     },
     "metadata": {},
     "output_type": "display_data"
    },
    {
     "data": {
      "application/vnd.jupyter.widget-view+json": {
       "model_id": "5f316192531941ed949598eb660a159d",
       "version_major": 2,
       "version_minor": 0
      },
      "text/plain": [
       "Output()"
      ]
     },
     "metadata": {},
     "output_type": "display_data"
    }
   ],
   "source": [
    "# Step 5: Display Widgets and Output\n",
    "display(bond_selector, start_date, end_date, update_button, output)"
   ]
  },
  {
   "cell_type": "code",
   "execution_count": null,
   "id": "1e644a81-d4e9-478a-a9d0-a41e27755967",
   "metadata": {},
   "outputs": [],
   "source": []
  }
 ],
 "metadata": {
  "kernelspec": {
   "display_name": "Python [conda env:base] *",
   "language": "python",
   "name": "conda-base-py"
  },
  "language_info": {
   "codemirror_mode": {
    "name": "ipython",
    "version": 3
   },
   "file_extension": ".py",
   "mimetype": "text/x-python",
   "name": "python",
   "nbconvert_exporter": "python",
   "pygments_lexer": "ipython3",
   "version": "3.12.7"
  }
 },
 "nbformat": 4,
 "nbformat_minor": 5
}
